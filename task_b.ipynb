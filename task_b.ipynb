{
 "cells": [
  {
   "cell_type": "markdown",
   "id": "ed38a5a7",
   "metadata": {},
   "source": [
    "#### Task B"
   ]
  },
  {
   "cell_type": "code",
   "execution_count": null,
   "id": "308c34f8",
   "metadata": {},
   "outputs": [],
   "source": [
    "import json\n",
    "import os\n",
    "import textwrap"
   ]
  },
  {
   "cell_type": "code",
   "execution_count": null,
   "id": "f942d46c",
   "metadata": {},
   "outputs": [],
   "source": [
    "# set these variables\n",
    "name = 'this-is-my-name' \n",
    "strategy = 'this is my strategy'\n",
    "create_file = True \n",
    "width_window = 100"
   ]
  },
  {
   "cell_type": "code",
   "execution_count": null,
   "id": "e6376ae2",
   "metadata": {},
   "outputs": [],
   "source": [
    "# read in data\n",
    "utterances = {}\n",
    "with open('predetermined_utterances_test.json') as f:\n",
    "    utterances = json.load(f)\n",
    "    \n",
    "pairs = {}\n",
    "with open('predetermined_utterance_response_pairs_test.json') as f:\n",
    "    pairs = json.load(f)"
   ]
  },
  {
   "cell_type": "code",
   "execution_count": null,
   "id": "87d4cd04",
   "metadata": {},
   "outputs": [],
   "source": [
    "combined = {}\n",
    "for ut_id in utterances:\n",
    "    tmp = []\n",
    "    for ut in utterances[ut_id]:\n",
    "        tmp.append((ut, pairs[ut]))\n",
    "    combined[ut_id] = tmp\n",
    "\n",
    "with open('combined_data_task_B.json', 'w') as f:\n",
    "    json.dump(combined, f, indent = 2)"
   ]
  },
  {
   "cell_type": "code",
   "execution_count": null,
   "id": "9a99c7ca",
   "metadata": {},
   "outputs": [],
   "source": [
    "if create_file and not os.path.exists('task_B--' + name + '.json'):\n",
    "    with open('task_B--' + name + '.json', 'w') as f:\n",
    "        json.dump({'name': name, 'strategy': strategy}, f, indent = 2)"
   ]
  },
  {
   "cell_type": "code",
   "execution_count": null,
   "id": "0be53991",
   "metadata": {},
   "outputs": [],
   "source": [
    "with open('combined_data_task_B.json') as f:\n",
    "    combined_pairs = json.load(f)\n",
    "with open('task_B--' + name + '.json') as f:\n",
    "    next_utterances = json.load(f)    \n",
    "    \n",
    "for ut_id in combined_pairs:\n",
    "    if ut_id not in next_utterances or len(next_utterances[ut_id]) < 10:\n",
    "        for a, b in combined_pairs[ut_id]:\n",
    "            print('?: ' + a)\n",
    "            print(textwrap.fill('>: ' + b, width = width_window))\n",
    "            print('--')\n",
    "        print('__________')\n",
    "        \n",
    "        next_new_utterances = []\n",
    "        if ut_id in next_utterances:\n",
    "            next_new_utterances = next_utterances[ut_id]\n",
    "        \n",
    "            print('You have already entered these ' + str(len(next_new_utterances)) + ' next utterances.')\n",
    "\n",
    "            for i in range(len(next_new_utterances)):\n",
    "                print(str(i + 1) + ' -- ' + next_new_utterances[i])\n",
    "        \n",
    "            if len(next_new_utterances) == 9:\n",
    "                print('Now please enter the missing ' + str(10 - len(next_new_utterances)) + ' one.')\n",
    "            else:\n",
    "                print('Now please enter the missing ' + str(10 - len(next_new_utterances)) + ' ones.')\n",
    "        \n",
    "        while len(next_new_utterances) < 10:\n",
    "            new_utterance = input('Next utterance please')\n",
    "            if len(new_utterance.strip()) > 0 and new_utterance not in next_new_utterances:\n",
    "                next_new_utterances.append(new_utterance)\n",
    "                next_utterances[ut_id] = next_new_utterances\n",
    "                \n",
    "                with open('task_B--' + name + '.json', 'w') as f:\n",
    "                    json.dump(next_utterances, f, indent = 2)\n",
    "    \n",
    "        print('These 10 options have been entered by you as potential next utterances:')\n",
    "        for i in range(10):\n",
    "            print(str(i + 1) + ' -- ' + next_new_utterances[i])\n",
    "            \n",
    "        print('Thanks!')\n",
    "        break\n",
    "\n",
    "if len(next_utterances) == 35:\n",
    "    print('Nice job, well done! Please send your `task_B--NAME.json` file to Christin. Thank you so much! :)')"
   ]
  }
 ],
 "metadata": {
  "kernelspec": {
   "display_name": "base",
   "language": "python",
   "name": "python3"
  },
  "language_info": {
   "codemirror_mode": {
    "name": "ipython",
    "version": 3
   },
   "file_extension": ".py",
   "mimetype": "text/x-python",
   "name": "python",
   "nbconvert_exporter": "python",
   "pygments_lexer": "ipython3",
   "version": "3.9.15"
  }
 },
 "nbformat": 4,
 "nbformat_minor": 5
}
