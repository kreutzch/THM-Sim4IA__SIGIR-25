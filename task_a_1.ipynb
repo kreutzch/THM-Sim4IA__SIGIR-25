{
 "cells": [
  {
   "cell_type": "markdown",
   "id": "ed38a5a7",
   "metadata": {},
   "source": [
    "#### Task A1"
   ]
  },
  {
   "cell_type": "code",
   "execution_count": null,
   "id": "308c34f8",
   "metadata": {},
   "outputs": [],
   "source": [
    "import pandas as pd\n",
    "import os\n",
    "import textwrap\n",
    "import json\n",
    "import pyterrier as pt"
   ]
  },
  {
   "cell_type": "code",
   "execution_count": null,
   "id": "2c972e38",
   "metadata": {},
   "outputs": [],
   "source": [
    "if not pt.java.started():\n",
    "    pt.java.init()"
   ]
  },
  {
   "cell_type": "code",
   "execution_count": null,
   "id": "66d4fddc",
   "metadata": {},
   "outputs": [],
   "source": [
    "index_path = os.path.abspath(\"./example_data/index_CORE\") # modify if needed\n",
    "index_ref = pt.IndexRef.of(index_path)\n",
    "index = pt.IndexFactory.of(index_ref)\n",
    "meta_ind = index.getMetaIndex()"
   ]
  },
  {
   "cell_type": "code",
   "execution_count": null,
   "id": "86476ade",
   "metadata": {},
   "outputs": [],
   "source": [
    "# set these variables\n",
    "name = 'this-is-my-name'\n",
    "strategy = 'this is my strategy' \n",
    "create_file = True \n",
    "width_window = 100"
   ]
  },
  {
   "cell_type": "code",
   "execution_count": null,
   "id": "9a99c7ca",
   "metadata": {},
   "outputs": [],
   "source": [
    "if create_file and not os.path.exists('task_A_1--' + name + '.json'):\n",
    "    with open('task_A_1--' + name + '.json', 'w') as f:\n",
    "        json.dump({'name': name, 'strategy': strategy}, f, indent = 2)"
   ]
  },
  {
   "cell_type": "code",
   "execution_count": null,
   "id": "917c95d1",
   "metadata": {},
   "outputs": [],
   "source": [
    "queries = pd.read_csv('predetermined_queries_Task_A_test.csv', header = None)\n",
    "    \n",
    "with open('task_A_1--' + name + '.json') as f:\n",
    "    next_queries = json.load(f)\n",
    "\n",
    "for qu_id in queries[2].unique():\n",
    "    squ_id = str(qu_id)\n",
    "    if squ_id not in next_queries or len(next_queries[squ_id]) < 10:\n",
    "        for i, row in queries[queries[2] == qu_id].tail(1).iterrows():\n",
    "            print('?: ' + row[3])\n",
    "            \n",
    "            for relevant_doc in row[5][1:-1].split(', '):\n",
    "                doc_no = meta_ind.getDocument('docno', str(relevant_doc))\n",
    "                if doc_no > -1:\n",
    "                    doc_cont = meta_ind.getItem(\"title\", doc_no)   \n",
    "                \n",
    "                    print(textwrap.fill('>: ' + doc_cont, width=width_window))\n",
    "        print('__________')\n",
    "        \n",
    "        next_new_queries = []\n",
    "        if squ_id in next_queries:\n",
    "            next_new_queries = next_queries[squ_id]\n",
    "        \n",
    "            print('You have already entered these ' + str(len(next_new_queries)) + ' next queries.')\n",
    "\n",
    "            for i in range(len(next_new_queries)):\n",
    "                print(str(i + 1) + ' -- ' + next_new_queries[i])\n",
    "        \n",
    "            if len(next_new_queries) == 9:\n",
    "                print('Now please enter the missing ' + str(10 - len(next_new_queries)) + ' one.')\n",
    "            else:\n",
    "                print('Now please enter the missing ' + str(10 - len(next_new_queries)) + ' ones.')\n",
    "                \n",
    "        while len(next_new_queries) < 10:\n",
    "            new_query = input('Next query please')\n",
    "            if len(new_query.strip()) > 0 and new_query not in next_new_queries:\n",
    "                next_new_queries.append(new_query)\n",
    "                next_queries[str(squ_id)] = next_new_queries\n",
    "                \n",
    "                with open('task_A_1--' + name + '.json', 'w') as f:\n",
    "                    json.dump(next_queries, f, indent = 2)\n",
    "    \n",
    "        print('These 10 options have been entered by you as potential next queries:')\n",
    "        for i in range(10):\n",
    "            print(str(i + 1) + ' -- ' + next_new_queries[i])\n",
    "            \n",
    "        print('Thanks!')\n",
    "        break\n",
    "    \n",
    "if len(next_queries) == 35:\n",
    "    print('Nice job, well done! Please send your `task_A_1--NAME.json` file to Christin. Thank you so much! :)')"
   ]
  }
 ],
 "metadata": {
  "kernelspec": {
   "display_name": "base",
   "language": "python",
   "name": "python3"
  },
  "language_info": {
   "codemirror_mode": {
    "name": "ipython",
    "version": 3
   },
   "file_extension": ".py",
   "mimetype": "text/x-python",
   "name": "python",
   "nbconvert_exporter": "python",
   "pygments_lexer": "ipython3",
   "version": "3.9.15"
  }
 },
 "nbformat": 4,
 "nbformat_minor": 5
}
